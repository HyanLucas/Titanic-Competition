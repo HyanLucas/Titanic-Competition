{
 "cells": [
  {
   "cell_type": "code",
   "execution_count": 1,
   "metadata": {},
   "outputs": [
    {
     "name": "stdout",
     "output_type": "stream",
     "text": [
      "Dataset downloaded successfully!\n",
      "Files extracted successfully!\n"
     ]
    }
   ],
   "source": [
    "import os\n",
    "import zipfile\n",
    "from kaggle.api.kaggle_api_extended import KaggleApi\n",
    "\n",
    "api = KaggleApi()\n",
    "\n",
    "api.authenticate()\n",
    "\n",
    "competition_name = 'titanic'\n",
    "\n",
    "base_dir = './dataset/titanic'\n",
    "os.makedirs(base_dir, exist_ok=True)\n",
    "\n",
    "try:\n",
    "    api.competition_download_files(competition_name, path=base_dir)\n",
    "    print(\"Dataset downloaded successfully!\")\n",
    "\n",
    "    zip_file_path = os.path.join(base_dir, f'{competition_name}.zip')\n",
    "\n",
    "    extract_dir = os.path.join(base_dir, 'extracted')\n",
    "\n",
    "    os.makedirs(extract_dir, exist_ok=True)\n",
    "\n",
    "    with zipfile.ZipFile(zip_file_path, 'r') as zip_ref:\n",
    "        zip_ref.extractall(extract_dir)\n",
    "    print(\"Files extracted successfully!\")\n",
    "except Exception as e:\n",
    "    print(f\"An error occurred: {e}\")\n"
   ]
  }
 ],
 "metadata": {
  "kernelspec": {
   "display_name": "Python 3",
   "language": "python",
   "name": "python3"
  },
  "language_info": {
   "codemirror_mode": {
    "name": "ipython",
    "version": 3
   },
   "file_extension": ".py",
   "mimetype": "text/x-python",
   "name": "python",
   "nbconvert_exporter": "python",
   "pygments_lexer": "ipython3",
   "version": "3.12.1"
  }
 },
 "nbformat": 4,
 "nbformat_minor": 2
}
